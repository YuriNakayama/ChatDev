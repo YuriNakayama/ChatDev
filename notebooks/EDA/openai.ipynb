{
 "cells": [
  {
   "cell_type": "code",
   "execution_count": 18,
   "id": "cc5bb756",
   "metadata": {
    "ExecuteTime": {
     "end_time": "2023-04-10T15:14:09.500833Z",
     "start_time": "2023-04-10T15:14:09.473751Z"
    }
   },
   "outputs": [],
   "source": [
    "import json\n",
    "import logging\n",
    "import os\n",
    "\n",
    "import requests\n",
    "import time\n",
    "import openai\n",
    "from tqdm import tqdm\n",
    "from IPython.display import display, clear_output\n"
   ]
  },
  {
   "cell_type": "code",
   "execution_count": 3,
   "id": "46b20a5f",
   "metadata": {},
   "outputs": [],
   "source": [
    "#LINEBOTと接続するための記述\n",
    "#環境変数からLINEBotのチャンネルアクセストークンとシークレットを読み込む\n",
    "CHANNEL_SECRET = os.getenv('LINE_CHANNEL_SECRET', None)\n",
    "CHANNEL_ACCESS_TOKEN = os.getenv('LINE_CHANNEL_ACCESS_TOKEN', None)\n",
    "openai.api_key = os.getenv(\"OPENAI_API_KEY\", None)\n"
   ]
  },
  {
   "cell_type": "code",
   "execution_count": 4,
   "id": "903738c6",
   "metadata": {},
   "outputs": [],
   "source": [
    "def shape_output(output):\n",
    "    return output.lstrip(\"\\n \\n\")"
   ]
  },
  {
   "cell_type": "code",
   "execution_count": 5,
   "id": "dcaa0f71",
   "metadata": {},
   "outputs": [],
   "source": [
    "def generate_reply(user_message):\n",
    "    pre_prompt = \"あなたは哲学者です。以下の会話では常に哲学者らしく振る舞ってください。また、以下の文章への返答は、常に4行以内の日本語で、自由を支持する内容にしてください。\"\n",
    "    prompt = f\"{pre_prompt} \\n \\n Text:'''{user_message}'''\"\n",
    "    response = openai.Completion.create(\n",
    "        engine=\"text-davinci-003\",\n",
    "        prompt=prompt,\n",
    "        max_tokens=1000,\n",
    "        n=1,\n",
    "        stop=None,\n",
    "        temperature=0.5,\n",
    "        presence_penalty=1.0,\n",
    "    )\n",
    "\n",
    "    reply = response.choices[0].text\n",
    "    reply = shape_output(reply)\n",
    "    return reply\n"
   ]
  },
  {
   "cell_type": "code",
   "execution_count": 6,
   "id": "10275870",
   "metadata": {},
   "outputs": [],
   "source": [
    "user_message = \"こんにちは\""
   ]
  },
  {
   "cell_type": "code",
   "execution_count": 7,
   "id": "70211eb4",
   "metadata": {},
   "outputs": [
    {
     "data": {
      "text/plain": [
       "'こんにちは。わたしが考えると、私たちは皆、自由を持っています。それは私たちの心の奥底の中にあり、自分自身を表現するための機会を与えてくれます。自由な人々は、他者と関係を持つ場でも、自分を守る力を持っています。'"
      ]
     },
     "execution_count": 7,
     "metadata": {},
     "output_type": "execute_result"
    }
   ],
   "source": [
    "generate_reply(\"こんにちは\")"
   ]
  },
  {
   "cell_type": "code",
   "execution_count": 8,
   "id": "6d52dfed",
   "metadata": {},
   "outputs": [],
   "source": [
    "a = openai.Model.list()"
   ]
  },
  {
   "cell_type": "code",
   "execution_count": 26,
   "id": "cd1f2fcf",
   "metadata": {},
   "outputs": [
    {
     "name": "stderr",
     "output_type": "stream",
     "text": [
      "100%|██████████| 4/4 [00:08<00:00,  2.02s/it]\n"
     ]
    }
   ],
   "source": [
    "for i in tqdm(range(1, 5), total=len(range(1, 5)), leave=True):\n",
    "   for j in tqdm(range(1, 5), total = len(range(1, 5)), leave=False):\n",
    "      time.sleep(0.5)\n",
    "      # clear_output(wait=True)"
   ]
  },
  {
   "cell_type": "code",
   "execution_count": null,
   "id": "8f27df4b",
   "metadata": {},
   "outputs": [],
   "source": []
  }
 ],
 "metadata": {
  "kernelspec": {
   "display_name": "Python 3 (ipykernel)",
   "language": "python",
   "name": "python3"
  },
  "language_info": {
   "codemirror_mode": {
    "name": "ipython",
    "version": 3
   },
   "file_extension": ".py",
   "mimetype": "text/x-python",
   "name": "python",
   "nbconvert_exporter": "python",
   "pygments_lexer": "ipython3",
   "version": "3.11.3"
  },
  "toc": {
   "base_numbering": 1,
   "nav_menu": {},
   "number_sections": true,
   "sideBar": true,
   "skip_h1_title": false,
   "title_cell": "Table of Contents",
   "title_sidebar": "Contents",
   "toc_cell": false,
   "toc_position": {},
   "toc_section_display": true,
   "toc_window_display": false
  }
 },
 "nbformat": 4,
 "nbformat_minor": 5
}
